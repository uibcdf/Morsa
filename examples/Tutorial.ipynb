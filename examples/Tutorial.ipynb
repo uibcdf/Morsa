{
 "cells": [
  {
   "cell_type": "markdown",
   "metadata": {},
   "source": [
    "# Tutorial de Morsa\n",
    "\n",
    "Comencemos por importar `morsa`. También haremos uso de `numpy` y `matplotlib`:"
   ]
  },
  {
   "cell_type": "code",
   "execution_count": 1,
   "metadata": {},
   "outputs": [],
   "source": [
    "import morsa\n",
    "import numpy as np\n",
    "import matplotlib.pyplot as plt\n",
    "from tqdm import tqdm"
   ]
  },
  {
   "cell_type": "markdown",
   "metadata": {},
   "source": [
    "## Definición de los jugadores"
   ]
  },
  {
   "cell_type": "markdown",
   "metadata": {},
   "source": [
    "Definamos para empezar cuatro jugadores que distinguiremos con colores: `jugador_rojo`, `jugador_verde`, `jugador_amarillo` y `jugador_azul`. Dos de ellos serán pingüinos, y los otros dos serán una ballena y una morsa. Asignaremos nombre y edad para cada uno de ellos:"
   ]
  },
  {
   "cell_type": "code",
   "execution_count": 2,
   "metadata": {},
   "outputs": [],
   "source": [
    "jugador_rojo = morsa.jugadores.Morsa(nombre='Isabel', edad=44)\n",
    "jugador_verde = morsa.jugadores.Ballena(nombre='Rocio', edad=30)\n",
    "jugador_amarillo = morsa.jugadores.Pinguino(nombre='Cayetano', edad=35)\n",
    "jugador_azul = morsa.jugadores.Pinguino(nombre='Felipe', edad=23)"
   ]
  },
  {
   "cell_type": "markdown",
   "metadata": {},
   "source": [
    "Vamos a explorar en primer lugar quien es cada jugador y en qué juego son más habiles:"
   ]
  },
  {
   "cell_type": "code",
   "execution_count": 3,
   "metadata": {},
   "outputs": [
    {
     "name": "stdout",
     "output_type": "stream",
     "text": [
      "Soy Isabel, tengo 44 años y soy una morsa\n"
     ]
    }
   ],
   "source": [
    "jugador_rojo.quien_soy()"
   ]
  },
  {
   "cell_type": "code",
   "execution_count": 4,
   "metadata": {},
   "outputs": [
    {
     "name": "stdout",
     "output_type": "stream",
     "text": [
      "Soy Rocio\n"
     ]
    }
   ],
   "source": [
    "jugador_verde.quien_soy(solo_nombre=True)"
   ]
  },
  {
   "cell_type": "code",
   "execution_count": 5,
   "metadata": {},
   "outputs": [
    {
     "data": {
      "text/plain": [
       "'tres en raya'"
      ]
     },
     "execution_count": 5,
     "metadata": {},
     "output_type": "execute_result"
    }
   ],
   "source": [
    "jugador_amarillo.cual_es_mi_mejor_habilidad()"
   ]
  },
  {
   "cell_type": "code",
   "execution_count": 6,
   "metadata": {},
   "outputs": [
    {
     "data": {
      "text/plain": [
       "'tres en raya'"
      ]
     },
     "execution_count": 6,
     "metadata": {},
     "output_type": "execute_result"
    }
   ],
   "source": [
    "jugador_azul.cual_es_mi_mejor_habilidad()"
   ]
  },
  {
   "cell_type": "markdown",
   "metadata": {},
   "source": [
    "Podemos por ejemplo también cual es el factor suerte de los jugadores:"
   ]
  },
  {
   "cell_type": "code",
   "execution_count": 7,
   "metadata": {},
   "outputs": [
    {
     "data": {
      "text/plain": [
       "0.6404025102207127"
      ]
     },
     "execution_count": 7,
     "metadata": {},
     "output_type": "execute_result"
    }
   ],
   "source": [
    "jugador_rojo.suerte"
   ]
  },
  {
   "cell_type": "code",
   "execution_count": 8,
   "metadata": {},
   "outputs": [
    {
     "data": {
      "text/plain": [
       "0.4229390583630249"
      ]
     },
     "execution_count": 8,
     "metadata": {},
     "output_type": "execute_result"
    }
   ],
   "source": [
    "jugador_verde.suerte"
   ]
  },
  {
   "cell_type": "markdown",
   "metadata": {},
   "source": [
    "O cuantos puntos llevan:"
   ]
  },
  {
   "cell_type": "code",
   "execution_count": 9,
   "metadata": {},
   "outputs": [
    {
     "data": {
      "text/plain": [
       "0"
      ]
     },
     "execution_count": 9,
     "metadata": {},
     "output_type": "execute_result"
    }
   ],
   "source": [
    "jugador_azul.puntos"
   ]
  },
  {
   "cell_type": "markdown",
   "metadata": {},
   "source": [
    "## Juegos"
   ]
  },
  {
   "cell_type": "markdown",
   "metadata": {},
   "source": [
    "Veamos primero la lista de juegos disponible:"
   ]
  },
  {
   "cell_type": "code",
   "execution_count": 10,
   "metadata": {},
   "outputs": [
    {
     "data": {
      "text/plain": [
       "['parchís', 'ajedrez', 'dominó', 'tres en raya']"
      ]
     },
     "execution_count": 10,
     "metadata": {},
     "output_type": "execute_result"
    }
   ],
   "source": [
    "morsa.consulta_lista_de_juegos()"
   ]
  },
  {
   "cell_type": "markdown",
   "metadata": {},
   "source": [
    "Y los puntos que se asignan al ganar, o se sustraen al perder, en cada juego:"
   ]
  },
  {
   "cell_type": "code",
   "execution_count": 11,
   "metadata": {},
   "outputs": [
    {
     "data": {
      "text/plain": [
       "{'gana': 1, 'pierde': -1}"
      ]
     },
     "execution_count": 11,
     "metadata": {},
     "output_type": "execute_result"
    }
   ],
   "source": [
    "morsa.consulta_puntos_por_juego('parchís')"
   ]
  },
  {
   "cell_type": "markdown",
   "metadata": {},
   "source": [
    "Podríamos cambiar los puntos ganados o perdidos por juego:"
   ]
  },
  {
   "cell_type": "code",
   "execution_count": 12,
   "metadata": {},
   "outputs": [],
   "source": [
    "morsa.asignar_puntos_por_juego('parchís', gana=100, pierde=-1000)"
   ]
  },
  {
   "cell_type": "code",
   "execution_count": 13,
   "metadata": {},
   "outputs": [
    {
     "data": {
      "text/plain": [
       "{'gana': 100, 'pierde': -1000}"
      ]
     },
     "execution_count": 13,
     "metadata": {},
     "output_type": "execute_result"
    }
   ],
   "source": [
    "morsa.consulta_puntos_por_juego('parchís')"
   ]
  },
  {
   "cell_type": "markdown",
   "metadata": {},
   "source": [
    "Pero esa puntuación es exagerada, vamos a dejar mejor la puntuación de parchís como estaba:"
   ]
  },
  {
   "cell_type": "code",
   "execution_count": 14,
   "metadata": {},
   "outputs": [],
   "source": [
    "morsa.asignar_puntos_por_juego('parchís', gana=1, pierde=-1)"
   ]
  },
  {
   "cell_type": "markdown",
   "metadata": {},
   "source": [
    "Además, la librería dispone de un método que aleatoriamente arroja un juego cada vez que lo invocamos:"
   ]
  },
  {
   "cell_type": "code",
   "execution_count": 15,
   "metadata": {},
   "outputs": [
    {
     "name": "stdout",
     "output_type": "stream",
     "text": [
      "dominó\n",
      "dominó\n",
      "ajedrez\n",
      "ajedrez\n",
      "parchís\n",
      "ajedrez\n",
      "tres en raya\n",
      "ajedrez\n",
      "dominó\n",
      "dominó\n",
      "parchís\n",
      "parchís\n",
      "dominó\n",
      "dominó\n",
      "ajedrez\n",
      "dominó\n",
      "ajedrez\n",
      "dominó\n",
      "ajedrez\n",
      "tres en raya\n"
     ]
    }
   ],
   "source": [
    "for _ in range(20):\n",
    "    juego_aleatorio = morsa.generador_aleatorio_de_juegos()\n",
    "    print(juego_aleatorio)"
   ]
  },
  {
   "cell_type": "markdown",
   "metadata": {},
   "source": [
    "## Competición"
   ]
  },
  {
   "cell_type": "markdown",
   "metadata": {},
   "source": [
    "Ya podemos comenzar a jugar, elijamos dos jugadores y un juego y enfrentémoslos:"
   ]
  },
  {
   "cell_type": "code",
   "execution_count": 16,
   "metadata": {},
   "outputs": [
    {
     "name": "stdout",
     "output_type": "stream",
     "text": [
      "Isabel no sabe jugar ajedrez\n"
     ]
    }
   ],
   "source": [
    "morsa.jugar('ajedrez', jugador_verde, jugador_rojo, verbose=True)"
   ]
  },
  {
   "cell_type": "markdown",
   "metadata": {},
   "source": [
    "Repite la celda anterior cambiando de juego y jugadores. Es posible que encuentres alguna situación en la que uno de los jugadores no sabe jugar al juego elegido, en ese caso la partida no se lleva a cabo y la puntuación de ambos permanece igual."
   ]
  },
  {
   "cell_type": "code",
   "execution_count": 17,
   "metadata": {},
   "outputs": [],
   "source": [
    "morsa.jugar('ajedrez', jugador_amarillo, jugador_azul, verbose=True)"
   ]
  },
  {
   "cell_type": "code",
   "execution_count": 18,
   "metadata": {},
   "outputs": [],
   "source": [
    "morsa.jugar('tres en raya', jugador_amarillo, jugador_rojo, verbose=True)"
   ]
  },
  {
   "cell_type": "code",
   "execution_count": 19,
   "metadata": {},
   "outputs": [],
   "source": [
    "morsa.jugar('dominó', jugador_amarillo, jugador_verde, verbose=True)"
   ]
  },
  {
   "cell_type": "code",
   "execution_count": 20,
   "metadata": {},
   "outputs": [
    {
     "name": "stdout",
     "output_type": "stream",
     "text": [
      "Felipe no sabe jugar parchís\n"
     ]
    }
   ],
   "source": [
    "morsa.jugar('parchís', jugador_azul, jugador_rojo, verbose=True)"
   ]
  },
  {
   "cell_type": "code",
   "execution_count": 21,
   "metadata": {},
   "outputs": [],
   "source": [
    "morsa.jugar('ajedrez', jugador_azul, jugador_verde, verbose=True)"
   ]
  },
  {
   "cell_type": "markdown",
   "metadata": {},
   "source": [
    "Podemos saber quien lleva más puntuación haciendo uso del método `quien_tiene_mas_puntos`:"
   ]
  },
  {
   "cell_type": "code",
   "execution_count": 22,
   "metadata": {},
   "outputs": [
    {
     "data": {
      "text/plain": [
       "('Rocio', 3, 'ballena')"
      ]
     },
     "execution_count": 22,
     "metadata": {},
     "output_type": "execute_result"
    }
   ],
   "source": [
    "morsa.quien_tiene_mas_puntos(jugadores=[jugador_azul, jugador_verde, jugador_amarillo, jugador_rojo])"
   ]
  },
  {
   "cell_type": "markdown",
   "metadata": {},
   "source": [
    "O como vimos antes, podemos acudir a los atributo de cada objeto:"
   ]
  },
  {
   "cell_type": "code",
   "execution_count": 23,
   "metadata": {},
   "outputs": [
    {
     "name": "stdout",
     "output_type": "stream",
     "text": [
      "Felipe lleva -2 puntos\n",
      "Rocio lleva 3 puntos\n",
      "Cayetano lleva 3 puntos\n",
      "Isabel lleva -2 puntos\n"
     ]
    }
   ],
   "source": [
    "for jugador in [jugador_azul, jugador_verde, jugador_amarillo, jugador_rojo]:\n",
    "    print(\"{} lleva {} puntos\".format(jugador.nombre, jugador.puntos))"
   ]
  },
  {
   "cell_type": "markdown",
   "metadata": {},
   "source": [
    "Por último, si quisieras reiniciar la competición con estos mismos jugadores, puedes reiniciar su puntuación:"
   ]
  },
  {
   "cell_type": "code",
   "execution_count": 24,
   "metadata": {},
   "outputs": [
    {
     "name": "stdout",
     "output_type": "stream",
     "text": [
      "Felipe lleva 0 puntos\n",
      "Rocio lleva 0 puntos\n",
      "Cayetano lleva 0 puntos\n",
      "Isabel lleva 0 puntos\n"
     ]
    }
   ],
   "source": [
    "for jugador in [jugador_azul, jugador_verde, jugador_amarillo, jugador_rojo]:\n",
    "    jugador.reiniciar_puntos()\n",
    "    print(\"{} lleva {} puntos\".format(jugador.nombre, jugador.puntos))"
   ]
  },
  {
   "cell_type": "markdown",
   "metadata": {},
   "source": [
    "## Cada especie animal tiene un poder"
   ]
  },
  {
   "cell_type": "markdown",
   "metadata": {},
   "source": [
    "Cada una de las especies animales tienen una capacidad diferente, llamada poder. Las morsas pueden volver a generar aleatoriamente su factor suerte mediante el método `reasigno_suerte()`, los pingüinos pueden volver a generar aleatoriamente sus factores de habilidad mediante `reasigno_habilidades()`, y las ballenas pueden volver a generar aleatoriamente sus factores de habilidad y suerte mediante `reasigno_suerte_y_habilidades()`. Veamos primero cómo funciona para las morsas:"
   ]
  },
  {
   "cell_type": "code",
   "execution_count": 25,
   "metadata": {},
   "outputs": [
    {
     "name": "stdout",
     "output_type": "stream",
     "text": [
      "Soy Isabel, tengo 44 años y soy una morsa\n"
     ]
    }
   ],
   "source": [
    "jugador_rojo.quien_soy()"
   ]
  },
  {
   "cell_type": "code",
   "execution_count": 26,
   "metadata": {},
   "outputs": [
    {
     "data": {
      "text/plain": [
       "0.6404025102207127"
      ]
     },
     "execution_count": 26,
     "metadata": {},
     "output_type": "execute_result"
    }
   ],
   "source": [
    "jugador_rojo.suerte"
   ]
  },
  {
   "cell_type": "code",
   "execution_count": 27,
   "metadata": {},
   "outputs": [],
   "source": [
    "jugador_rojo.reasigno_suerte()"
   ]
  },
  {
   "cell_type": "code",
   "execution_count": 28,
   "metadata": {},
   "outputs": [
    {
     "data": {
      "text/plain": [
       "0.8695801897456286"
      ]
     },
     "execution_count": 28,
     "metadata": {},
     "output_type": "execute_result"
    }
   ],
   "source": [
    "jugador_rojo.suerte"
   ]
  },
  {
   "cell_type": "markdown",
   "metadata": {},
   "source": [
    "Ahora veamos el poder de los pingüinos:"
   ]
  },
  {
   "cell_type": "code",
   "execution_count": 29,
   "metadata": {},
   "outputs": [
    {
     "name": "stdout",
     "output_type": "stream",
     "text": [
      "Soy Cayetano, tengo 35 años y soy un pingüino\n"
     ]
    }
   ],
   "source": [
    "jugador_amarillo.quien_soy()"
   ]
  },
  {
   "cell_type": "code",
   "execution_count": 30,
   "metadata": {},
   "outputs": [
    {
     "data": {
      "text/plain": [
       "{'ajedrez': 0.143415786053684,\n",
       " 'dominó': 0.049899213545536725,\n",
       " 'tres en raya': 0.8447684192858284}"
      ]
     },
     "execution_count": 30,
     "metadata": {},
     "output_type": "execute_result"
    }
   ],
   "source": [
    "jugador_amarillo.habilidad"
   ]
  },
  {
   "cell_type": "code",
   "execution_count": 31,
   "metadata": {},
   "outputs": [],
   "source": [
    "jugador_amarillo.reasigno_habilidades()"
   ]
  },
  {
   "cell_type": "code",
   "execution_count": 32,
   "metadata": {},
   "outputs": [
    {
     "data": {
      "text/plain": [
       "{'ajedrez': 0.22953641991450757,\n",
       " 'dominó': 0.8744179720270141,\n",
       " 'tres en raya': 0.11929436547801142}"
      ]
     },
     "execution_count": 32,
     "metadata": {},
     "output_type": "execute_result"
    }
   ],
   "source": [
    "jugador_amarillo.habilidad"
   ]
  },
  {
   "cell_type": "markdown",
   "metadata": {},
   "source": [
    "Y por último las ballenas:"
   ]
  },
  {
   "cell_type": "code",
   "execution_count": 33,
   "metadata": {},
   "outputs": [
    {
     "name": "stdout",
     "output_type": "stream",
     "text": [
      "Soy Rocio, tengo 30 años y soy una ballena\n"
     ]
    }
   ],
   "source": [
    "jugador_verde.quien_soy()"
   ]
  },
  {
   "cell_type": "code",
   "execution_count": 34,
   "metadata": {},
   "outputs": [
    {
     "data": {
      "text/plain": [
       "0.4229390583630249"
      ]
     },
     "execution_count": 34,
     "metadata": {},
     "output_type": "execute_result"
    }
   ],
   "source": [
    "jugador_verde.suerte"
   ]
  },
  {
   "cell_type": "code",
   "execution_count": 35,
   "metadata": {},
   "outputs": [
    {
     "data": {
      "text/plain": [
       "{'parchís': 0.3431233746815442,\n",
       " 'dominó': 0.9098603396436457,\n",
       " 'ajedrez': 0.9894561198851404}"
      ]
     },
     "execution_count": 35,
     "metadata": {},
     "output_type": "execute_result"
    }
   ],
   "source": [
    "jugador_verde.habilidad"
   ]
  },
  {
   "cell_type": "code",
   "execution_count": 36,
   "metadata": {},
   "outputs": [],
   "source": [
    "jugador_verde.reasigno_suerte_y_habilidades()"
   ]
  },
  {
   "cell_type": "code",
   "execution_count": 37,
   "metadata": {},
   "outputs": [
    {
     "data": {
      "text/plain": [
       "0.3086356235565868"
      ]
     },
     "execution_count": 37,
     "metadata": {},
     "output_type": "execute_result"
    }
   ],
   "source": [
    "jugador_verde.suerte"
   ]
  },
  {
   "cell_type": "code",
   "execution_count": 38,
   "metadata": {},
   "outputs": [
    {
     "data": {
      "text/plain": [
       "{'parchís': 0.13410736405841495,\n",
       " 'dominó': 0.9726114034954632,\n",
       " 'ajedrez': 0.5957966442407989}"
      ]
     },
     "execution_count": 38,
     "metadata": {},
     "output_type": "execute_result"
    }
   ],
   "source": [
    "jugador_verde.habilidad"
   ]
  },
  {
   "cell_type": "markdown",
   "metadata": {},
   "source": [
    "## ¿Qué animal prefieres?\n",
    "\n",
    "### Simulemos un torneo con múltiples jugadores\n",
    "\n",
    "¿Será que hay alguna especia animal que tiene más probabilidad de ganar un torneo de juegos aleatorios? Hagamos que 300 jugadores, 100 de cada especie, se enfrenten en una larga secuencia de juegos elegidos aleatoriamente y veamos el resultado. Primero generemos los jugadores:"
   ]
  },
  {
   "cell_type": "code",
   "execution_count": 39,
   "metadata": {},
   "outputs": [],
   "source": [
    "jugador = []\n",
    "\n",
    "for _ in range(100):\n",
    "    jugador.append(morsa.jugadores.Ballena())\n",
    "    jugador.append(morsa.jugadores.Pinguino())\n",
    "    jugador.append(morsa.jugadores.Morsa())"
   ]
  },
  {
   "cell_type": "markdown",
   "metadata": {},
   "source": [
    "Conozcamos a alguno de los jugadores:"
   ]
  },
  {
   "cell_type": "code",
   "execution_count": 40,
   "metadata": {},
   "outputs": [
    {
     "name": "stdout",
     "output_type": "stream",
     "text": [
      "Soy Lucía Bernal Llopis, tengo 97 años y soy un pingüino\n"
     ]
    }
   ],
   "source": [
    "jugador[25].quien_soy()"
   ]
  },
  {
   "cell_type": "code",
   "execution_count": 41,
   "metadata": {},
   "outputs": [
    {
     "name": "stdout",
     "output_type": "stream",
     "text": [
      "Soy Joaquin Piña Losada, tengo 75 años y soy una morsa\n"
     ]
    }
   ],
   "source": [
    "jugador[65].quien_soy()"
   ]
  },
  {
   "cell_type": "code",
   "execution_count": 42,
   "metadata": {},
   "outputs": [
    {
     "name": "stdout",
     "output_type": "stream",
     "text": [
      "Soy Mireia Nuria Fiol Ruano, tengo 86 años y soy una ballena\n"
     ]
    }
   ],
   "source": [
    "jugador[90].quien_soy()"
   ]
  },
  {
   "cell_type": "markdown",
   "metadata": {},
   "source": [
    "Ahora si. ¡Que empiece el torneo!."
   ]
  },
  {
   "cell_type": "code",
   "execution_count": 43,
   "metadata": {},
   "outputs": [
    {
     "name": "stderr",
     "output_type": "stream",
     "text": [
      "100%|██████████| 1000/1000 [03:02<00:00,  5.48it/s]\n"
     ]
    }
   ],
   "source": [
    "numero_de_rondas = 1000 # cantidad de partidas que se van a jugar\n",
    "numero_de_jugadores = len(jugador)\n",
    "historico_jugadores = np.zeros([numero_de_jugadores, numero_de_rondas], dtype=int) # numpy array para acumular la puntuación\n",
    "\n",
    "for indice_de_ronda in tqdm(range(numero_de_rondas)):\n",
    "    \n",
    "    juego_aleatorio = morsa.generador_aleatorio_de_juegos()\n",
    "    \n",
    "    for ii in range(numero_de_jugadores):\n",
    "        for jj in range (ii+1,numero_de_jugadores):\n",
    "            jugador_A = jugador[ii]\n",
    "            jugador_B = jugador[jj]\n",
    "            morsa.jugar(juego_aleatorio, jugador_A, jugador_B)\n",
    "    \n",
    "    for ii in range(numero_de_jugadores):\n",
    "        historico_jugadores[ii, indice_de_ronda] = jugador[ii].puntos\n"
   ]
  },
  {
   "cell_type": "markdown",
   "metadata": {},
   "source": [
    "Antes de hacer cualquier análisis veamos quien ha ganado:"
   ]
  },
  {
   "cell_type": "code",
   "execution_count": 44,
   "metadata": {},
   "outputs": [],
   "source": [
    "indice_jugador_ganador = np.argmax(historico_jugadores[:,-1])"
   ]
  },
  {
   "cell_type": "code",
   "execution_count": 45,
   "metadata": {},
   "outputs": [
    {
     "name": "stdout",
     "output_type": "stream",
     "text": [
      "Soy Cristian Gil Gil, tengo 35 años y soy una ballena\n"
     ]
    }
   ],
   "source": [
    "jugador[indice_jugador_ganador].quien_soy()"
   ]
  },
  {
   "cell_type": "code",
   "execution_count": 46,
   "metadata": {},
   "outputs": [
    {
     "data": {
      "text/plain": [
       "126621"
      ]
     },
     "execution_count": 46,
     "metadata": {},
     "output_type": "execute_result"
    }
   ],
   "source": [
    "jugador[indice_jugador_ganador].puntos"
   ]
  },
  {
   "cell_type": "markdown",
   "metadata": {},
   "source": [
    "Construyamos ahora el gráfico de evolución de algunos de los jugadores a lo largo del torneo, incluido el ganador. Representaremos las ballenas en azul, las morsas en rojo y los pingüinos en gris:"
   ]
  },
  {
   "cell_type": "code",
   "execution_count": 47,
   "metadata": {},
   "outputs": [],
   "source": [
    "indices_de_jugadores_a_observar = [3, 24, 45, 67, 82, 107, 122, 148, 161, 183, 205, 226, 241, 265, 289]\n",
    "\n",
    "if indice_jugador_ganador not in indices_de_jugadores_a_observar:\n",
    "    indices_de_jugadores_a_observar.append(indice_jugador_ganador)"
   ]
  },
  {
   "cell_type": "code",
   "execution_count": 48,
   "metadata": {},
   "outputs": [],
   "source": [
    "diccionario_colores = {'ballena':'tab:blue', 'morsa':'tab:red', 'pingüino':'tab:gray'}"
   ]
  },
  {
   "cell_type": "code",
   "execution_count": 49,
   "metadata": {},
   "outputs": [
    {
     "data": {
      "image/png": "[encoded data removed]",
      "text/plain": [
       "<Figure size 432x288 with 1 Axes>"
      ]
     },
     "metadata": {
      "needs_background": "light"
     },
     "output_type": "display_data"
    }
   ],
   "source": [
    "for ii in indices_de_jugadores_a_observar:\n",
    "    color_especie = diccionario_colores[jugador[ii].especie]\n",
    "    plt.plot(historico_jugadores[ii,:],'-', color=color_especie)\n",
    "\n",
    "plt.title(\"Torneo Regular - Conferencia Pacífico\")\n",
    "plt.xlabel(\"Ronda\")\n",
    "plt.ylabel(\"Puntos\")\n",
    "plt.show()"
   ]
  },
  {
   "cell_type": "markdown",
   "metadata": {},
   "source": [
    "Veamos el histograma de puntos alcanzados al final de la competición por especie:"
   ]
  },
  {
   "cell_type": "code",
   "execution_count": 50,
   "metadata": {},
   "outputs": [],
   "source": [
    "puntuacion_final_ballenas=[]\n",
    "puntuacion_final_pinguinos=[]\n",
    "puntuacion_final_morsas=[]\n",
    "\n",
    "for ii in range(numero_de_jugadores):\n",
    "    if jugador[ii].especie == 'ballena':\n",
    "        puntuacion_final_ballenas.append(historico_jugadores[ii,-1])\n",
    "    elif jugador[ii].especie == 'pingüino':\n",
    "        puntuacion_final_pinguinos.append(historico_jugadores[ii,-1])\n",
    "    else:\n",
    "        puntuacion_final_morsas.append(historico_jugadores[ii,-1])"
   ]
  },
  {
   "cell_type": "code",
   "execution_count": 51,
   "metadata": {},
   "outputs": [
    {
     "data": {
      "image/png": "[encoded data removed]",
      "text/plain": [
       "<Figure size 432x288 with 1 Axes>"
      ]
     },
     "metadata": {
      "needs_background": "light"
     },
     "output_type": "display_data"
    }
   ],
   "source": [
    "plt.hist(puntuacion_final_ballenas, histtype='stepfilled', color=diccionario_colores['ballena'], alpha=0.3, bins=20)\n",
    "plt.hist(puntuacion_final_pinguinos, histtype='stepfilled', color=diccionario_colores['pingüino'], alpha=0.3, bins=20)\n",
    "plt.hist(puntuacion_final_morsas, histtype='stepfilled', color=diccionario_colores['morsa'], alpha=0.3, bins=20)\n",
    "plt.title(\"Histograma de puntos por especie\")\n",
    "plt.xlabel(\"Puntos\")\n",
    "plt.ylabel(\"Frecuencia\")\n",
    "labels= [\"ballena\",\"pingüino\", \"morsa\"]\n",
    "handles = [plt.Rectangle((0,0),1,1,color=diccionario_colores[ii],ec=\"k\", alpha=0.3) for ii in labels]\n",
    "plt.legend(handles, labels)\n",
    "plt.show()"
   ]
  },
  {
   "cell_type": "markdown",
   "metadata": {},
   "source": [
    "Parece que a las morsas les va peor que a las ballenas o a los pingüinos... ¿Será verdad?"
   ]
  },
  {
   "cell_type": "markdown",
   "metadata": {},
   "source": [
    "### Ballena vs. Pingüino vs. Morsa\n",
    "\n",
    "Entonces, si se enfrentan tres animales, uno de cada especie: ¿qué probabilidad de ganar tiene la morsa?\n",
    "Hagamos muchos torneos suficientemente largos, sólo con tres jugadores, y veamos la tasa de éxito de cada especie."
   ]
  },
  {
   "cell_type": "code",
   "execution_count": 52,
   "metadata": {},
   "outputs": [
    {
     "name": "stderr",
     "output_type": "stream",
     "text": [
      "100%|██████████| 2000/2000 [01:41<00:00, 19.65it/s]\n"
     ]
    }
   ],
   "source": [
    "numero_de_torneos = 2000 # cantidad de torneos que se van a jugar\n",
    "numero_de_rondas = 400 # cantidad de rondas por torneo\n",
    "\n",
    "contador_de_victorias = {'ballena':0, 'pingüino':0, 'morsa':0}\n",
    "\n",
    "for _ in tqdm(range(numero_de_torneos)):\n",
    "    \n",
    "    jugador = []\n",
    "    jugador.append(morsa.jugadores.Ballena())\n",
    "    jugador.append(morsa.jugadores.Pinguino())\n",
    "    jugador.append(morsa.jugadores.Morsa())\n",
    "\n",
    "    for _ in range(numero_de_rondas):\n",
    "    \n",
    "        juego_aleatorio = morsa.generador_aleatorio_de_juegos()\n",
    "        morsa.jugar(juego_aleatorio, jugador[0], jugador[1])\n",
    "        morsa.jugar(juego_aleatorio, jugador[0], jugador[2])\n",
    "        morsa.jugar(juego_aleatorio, jugador[1], jugador[2])\n",
    "        \n",
    "    nombre_ganador, puntos_ganador, especie_ganador = morsa.quien_tiene_mas_puntos(jugador)\n",
    "    \n",
    "    contador_de_victorias[especie_ganador] += 1\n",
    "\n"
   ]
  },
  {
   "cell_type": "markdown",
   "metadata": {},
   "source": [
    "Veamos la tasa de éxito y fracaso de cada especie:"
   ]
  },
  {
   "cell_type": "code",
   "execution_count": 53,
   "metadata": {},
   "outputs": [
    {
     "name": "stdout",
     "output_type": "stream",
     "text": [
      "La especie ballena gana el 55.1% y pierde el 44.9% de las partidas\n",
      "La especie pingüino gana el 30.85% y pierde el 69.15% de las partidas\n",
      "La especie morsa gana el 14.05% y pierde el 85.95% de las partidas\n"
     ]
    }
   ],
   "source": [
    "for especie in ['ballena', 'pingüino', 'morsa']:\n",
    "    tasa_gana = round(100.0*((1.0*contador_de_victorias[especie])/numero_de_torneos), 2)\n",
    "    tasa_pierde = round(100.0-tasa_gana, 2)\n",
    "    print('La especie {} gana el {}% y pierde el {}% de las partidas'.format(especie, tasa_gana, tasa_pierde))"
   ]
  },
  {
   "cell_type": "markdown",
   "metadata": {},
   "source": [
    "### Ayuda a las morsas\n",
    "\n",
    "¿Por qué las morsas pierden mas torneos que las ballenas o los pingüinos? ¿Qué tienes que hacer para que las morsas tengan mas opciones de victoria?"
   ]
  }
 ],
 "metadata": {
  "kernelspec": {
   "display_name": "Python 3",
   "language": "python",
   "name": "python3"
  },
  "language_info": {
   "codemirror_mode": {
    "name": "ipython",
    "version": 3
   },
   "file_extension": ".py",
   "mimetype": "text/x-python",
   "name": "python",
   "nbconvert_exporter": "python",
   "pygments_lexer": "ipython3",
   "version": "3.7.4"
  }
 },
 "nbformat": 4,
 "nbformat_minor": 4
}
